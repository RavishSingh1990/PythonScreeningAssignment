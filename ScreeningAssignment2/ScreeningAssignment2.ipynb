{
 "cells": [
  {
   "cell_type": "markdown",
   "metadata": {},
   "source": [
    "Abstract class\n",
    "\n",
    "Abstract class is used to create or provide a skeletal for other class.\n",
    "We can define a Abstract Class, this abstract class is then inherited by other class\n",
    "\n",
    "for example we can have a Vehicle Abstract class, from there we can derive other classes such as four wheeler and two wheeler."
   ]
  },
  {
   "cell_type": "code",
   "execution_count": 3,
   "metadata": {},
   "outputs": [],
   "source": [
    "#Defining Abstract Class\n",
    "\n",
    "from abc import ABC, abstractmethod\n",
    "class Vehicle(ABC):\n",
    "    \n",
    "    def __init__(self,vehicle_type):\n",
    "        self.vehicle_type = vehicle_type\n",
    "    \n",
    "    @abstractmethod\n",
    "    def run_using(self):\n",
    "        pass\n",
    "    "
   ]
  },
  {
   "cell_type": "code",
   "execution_count": 5,
   "metadata": {},
   "outputs": [],
   "source": [
    "# defining derived classes\n",
    "class two_wheeler(Vehicle):\n",
    "    def __init__(self):\n",
    "        super().__init__('two wheeler')\n",
    "    \n",
    "    def run_using(self):\n",
    "        print('Vehicle is running using two wheels')\n",
    "\n",
    "class four_wheeler(Vehicle):\n",
    "    def __init__(self):\n",
    "        super().__init__('four wheeler')\n",
    "    \n",
    "    def run_using(self):\n",
    "        print('Vehicle is running using four wheels')"
   ]
  },
  {
   "cell_type": "code",
   "execution_count": 8,
   "metadata": {},
   "outputs": [
    {
     "name": "stdout",
     "output_type": "stream",
     "text": [
      "Vehicle is running using four wheels\n",
      "Vehicle is running using two wheels\n"
     ]
    }
   ],
   "source": [
    "#Defining Driver Program\n",
    "\n",
    "car = four_wheeler()\n",
    "car.run_using()\n",
    "\n",
    "bike = two_wheeler()\n",
    "bike.run_using()"
   ]
  },
  {
   "cell_type": "markdown",
   "metadata": {},
   "source": [
    "####################################################################################################################\n",
    "\n",
    "Multiple inheritence is a inheritence in which A class inherits from two different base classes.\n",
    "\n",
    "for Example\n",
    "\n",
    "A book class can inherit from publication class which is inturn inhriting from author class."
   ]
  },
  {
   "cell_type": "code",
   "execution_count": 46,
   "metadata": {},
   "outputs": [],
   "source": [
    "#defining All Class\n",
    "\n",
    "class Author:\n",
    "    \n",
    "    def __init__(self,author_name,author_code):\n",
    "        self.author_name = author_name\n",
    "        self.author_code = author_code\n",
    "    \n",
    "    def get_author_details(self):\n",
    "        print('Author Name is ',self.author_name)\n",
    "        print('Author Code is ',self.author_code)\n",
    "\n",
    "class Publication(Author):\n",
    "    \n",
    "    def __init__(self,publication_name,publication_branch,author_name,author_code):\n",
    "        super().__init__(author_name,author_code)\n",
    "        self.publication_name = publication_name\n",
    "        self.publication_branch = publication_branch\n",
    "    \n",
    "    def get_publication_details(self):\n",
    "        print('Publication Name is ',self.publication_name)\n",
    "        print('Publication Branch is ',self.publication_branch)\n",
    "        \n",
    "\n",
    "class Book(Publication):\n",
    "    def __init__(self,book_name,book_price,book_pages,author_name,author_code,publication_name,publication_branch):\n",
    "        super().__init__(publication_name,publication_branch,author_name,author_code)\n",
    "        self.book_name = book_name\n",
    "        self.book_price = book_price\n",
    "        self.book_pages = book_pages\n",
    "    \n",
    "    def get_book_details(self):\n",
    "        print('Book Name is ',self.book_name)\n",
    "        print('Book Price is ',self.book_price)\n",
    "        print('Book Pages is ',self.book_pages)\n",
    "        self.get_author_details()\n",
    "        self.get_publication_details()"
   ]
  },
  {
   "cell_type": "code",
   "execution_count": 47,
   "metadata": {},
   "outputs": [
    {
     "name": "stdout",
     "output_type": "stream",
     "text": [
      "Book Name is  Abc Concepts made Easy\n",
      "Book Price is  360\n",
      "Book Pages is  200\n",
      "Author Name is  Author1\n",
      "Author Code is  Author_Code_1\n",
      "Publication Name is  Publication1\n",
      "Publication Branch is  Publication_Branch_1\n"
     ]
    }
   ],
   "source": [
    "#Driver Programs\n",
    "\n",
    "book = Book('Abc Concepts made Easy','360','200','Author1','Author_Code_1','Publication1','Publication_Branch_1')\n",
    "book.get_book_details()"
   ]
  },
  {
   "cell_type": "markdown",
   "metadata": {},
   "source": [
    "#########################################################################################################\n",
    "\n",
    "Decorator are used to enhace the functionlaity of a function without changing any functionlity of the base function."
   ]
  },
  {
   "cell_type": "code",
   "execution_count": 59,
   "metadata": {},
   "outputs": [],
   "source": [
    "def decoration_Function(orig_func):\n",
    "    def wrap_func():\n",
    "        print('Decorating the passed function')\n",
    "        orig_func()\n",
    "        print('Exiting after decorating the passed function')\n",
    "    return wrap_func\n",
    "\n",
    "\n",
    "\n"
   ]
  },
  {
   "cell_type": "code",
   "execution_count": 61,
   "metadata": {},
   "outputs": [],
   "source": [
    "def hello_world():\n",
    "    print('Hello World')"
   ]
  },
  {
   "cell_type": "code",
   "execution_count": 62,
   "metadata": {},
   "outputs": [],
   "source": [
    "decorated_function = decoration_Function(hello_world)"
   ]
  },
  {
   "cell_type": "code",
   "execution_count": 63,
   "metadata": {},
   "outputs": [
    {
     "name": "stdout",
     "output_type": "stream",
     "text": [
      "Decorating the passed function\n",
      "Hello World\n",
      "Exiting after decorating the passed function\n"
     ]
    }
   ],
   "source": [
    "#function after decoration\n",
    "decorated_function()"
   ]
  },
  {
   "cell_type": "code",
   "execution_count": 64,
   "metadata": {},
   "outputs": [],
   "source": [
    "#decoration using @ operator\n",
    "\n",
    "@decoration_Function\n",
    "def hello_world():\n",
    "    print('Hello World') "
   ]
  },
  {
   "cell_type": "code",
   "execution_count": 65,
   "metadata": {},
   "outputs": [
    {
     "name": "stdout",
     "output_type": "stream",
     "text": [
      "Decorating the passed function\n",
      "Hello World\n",
      "Exiting after decorating the passed function\n"
     ]
    }
   ],
   "source": [
    "hello_world()"
   ]
  },
  {
   "cell_type": "code",
   "execution_count": null,
   "metadata": {},
   "outputs": [],
   "source": []
  }
 ],
 "metadata": {
  "kernelspec": {
   "display_name": "Python 3",
   "language": "python",
   "name": "python3"
  },
  "language_info": {
   "codemirror_mode": {
    "name": "ipython",
    "version": 3
   },
   "file_extension": ".py",
   "mimetype": "text/x-python",
   "name": "python",
   "nbconvert_exporter": "python",
   "pygments_lexer": "ipython3",
   "version": "3.7.6"
  }
 },
 "nbformat": 4,
 "nbformat_minor": 4
}
